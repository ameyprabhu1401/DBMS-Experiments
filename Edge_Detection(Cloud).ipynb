{
  "nbformat": 4,
  "nbformat_minor": 0,
  "metadata": {
    "colab": {
      "provenance": [],
      "authorship_tag": "ABX9TyMfkozrmR/eYQg2RWsF6fXU",
      "include_colab_link": true
    },
    "kernelspec": {
      "name": "python3",
      "display_name": "Python 3"
    },
    "language_info": {
      "name": "python"
    }
  },
  "cells": [
    {
      "cell_type": "markdown",
      "metadata": {
        "id": "view-in-github",
        "colab_type": "text"
      },
      "source": [
        "<a href=\"https://colab.research.google.com/github/ameyprabhu1401/DBMS-Experiments/blob/main/Edge_Detection(Cloud).ipynb\" target=\"_parent\"><img src=\"https://colab.research.google.com/assets/colab-badge.svg\" alt=\"Open In Colab\"/></a>"
      ]
    },
    {
      "cell_type": "code",
      "execution_count": 1,
      "metadata": {
        "id": "s-4J3X_kVS79"
      },
      "outputs": [],
      "source": [
        "import cv2\n",
        "from matplotlib import pyplot as plt\n",
        "import numpy as np\n",
        "\n",
        "import requests\n",
        "url = \"https://cdn.pixabay.com/photo/2017/05/17/12/42/tiger-2320819_960_720.jpg\"\n",
        "r = requests.get(url)\n",
        "with open('test.jpg', 'wb') as f:\n",
        "    f.write(r.content)"
      ]
    },
    {
      "cell_type": "code",
      "source": [
        "sobelx = cv2.Sobel(src=img, ddepth=cv2.CV_64F, dx=1, dy=0, ksize=5)\n",
        "\n",
        "sobely = cv2.Sobel(src=img, ddepth=cv2.CV_64F, dx=0, dy=1, ksize=5)\n",
        "\n",
        "sobelxy = cv2.Sobel(src=img, ddepth=cv2.CV_64F, dx=1, dy=1, ksize=5)\n",
        "\n",
        "plt.figure(figsize=(18,19))\n",
        "plt.subplot(221)\n",
        "plt.imshow(img, cmap='gray')\n",
        "plt.title('Original')\n",
        "plt.axis(\"off\")\n",
        "\n",
        "plt.subplot(222)\n",
        "plt.imshow(sobelxy, cmap='gray')\n",
        "plt.title('Sobel X Y')\n",
        "plt.axis(\"off\")\n",
        "\n",
        "plt.subplot(223)\n",
        "plt.imshow(sobelx, cmap='gray')\n",
        "plt.title('Sobel X')\n",
        "plt.axis(\"off\")\n",
        "\n",
        "plt.subplot(224)\n",
        "plt.imshow(sobely, cmap='gray')\n",
        "plt.title('Sobel Y')\n",
        "plt.axis(\"off\").."
      ],
      "metadata": {
        "colab": {
          "base_uri": "https://localhost:8080/",
          "height": 142
        },
        "id": "TqcBE43BWgcw",
        "outputId": "73b2022a-9670-449a-c4cf-b01ee4cd525f"
      },
      "execution_count": 4,
      "outputs": [
        {
          "output_type": "error",
          "ename": "SyntaxError",
          "evalue": "ignored",
          "traceback": [
            "\u001b[0;36m  File \u001b[0;32m\"<ipython-input-4-2f47b3094909>\"\u001b[0;36m, line \u001b[0;32m26\u001b[0m\n\u001b[0;31m    plt.axis(\"off\")..\u001b[0m\n\u001b[0m                    ^\u001b[0m\n\u001b[0;31mSyntaxError\u001b[0m\u001b[0;31m:\u001b[0m invalid syntax\n"
          ]
        }
      ]
    },
    {
      "cell_type": "code",
      "source": [],
      "metadata": {
        "id": "hTv8lXE0XJ_K"
      },
      "execution_count": 2,
      "outputs": []
    }
  ]
}